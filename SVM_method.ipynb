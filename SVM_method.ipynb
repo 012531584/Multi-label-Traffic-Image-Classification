{
 "cells": [
  {
   "cell_type": "code",
   "execution_count": 1,
   "metadata": {},
   "outputs": [
    {
     "name": "stdout",
     "output_type": "stream",
     "text": [
      "time: 7.735548973083496\n"
     ]
    }
   ],
   "source": [
    "import cv2\n",
    "import glob\n",
    "from skimage.feature import hog\n",
    "\n",
    "import time\n",
    "start = time.time()\n",
    "# read training files and use hog function to get the feature vector\n",
    "train_hog=[]\n",
    "for file in sorted(glob.glob('traffic/traffic-small/train/*.jpg')):\n",
    "    img = cv2.imread(file,0)\n",
    "    #img = cv2.resize(img, (70, 35))\n",
    "    img = cv2.resize(img, (80, 40))\n",
    "    h = hog(img, block_norm='L2')\n",
    "    train_hog.append(h)\n",
    "    \n",
    "end=time.time()\n",
    "print('time:',end-start)"
   ]
  },
  {
   "cell_type": "code",
   "execution_count": 2,
   "metadata": {},
   "outputs": [],
   "source": [
    "# read labels of training dataset\n",
    "import numpy as np\n",
    "train_label=[]\n",
    "with open('traffic/traffic-small/train.labels', mode='r') as f:\n",
    "    for line in f:\n",
    "        train_label.append(int(line))\n",
    "train_label=np.array(train_label)"
   ]
  },
  {
   "cell_type": "code",
   "execution_count": 3,
   "metadata": {},
   "outputs": [
    {
     "name": "stdout",
     "output_type": "stream",
     "text": [
      "time: 0.5468509197235107\n"
     ]
    }
   ],
   "source": [
    "# standardise the data\n",
    "start = time.time()\n",
    "\n",
    "from sklearn.preprocessing import StandardScaler\n",
    "train_hog_std = StandardScaler().fit_transform(train_hog)\n",
    "train_hog_std.shape\n",
    "\n",
    "end=time.time()\n",
    "print('time:',end-start)\n"
   ]
  },
  {
   "cell_type": "code",
   "execution_count": 36,
   "metadata": {},
   "outputs": [
    {
     "name": "stdout",
     "output_type": "stream",
     "text": [
      "time: 0.880789041519165\n"
     ]
    }
   ],
   "source": [
    "'''\n",
    "# implementing PCA method to reduce dimension\n",
    "start = time.time()\n",
    "\n",
    "from sklearn import decomposition\n",
    "pca = decomposition.PCA(n_components=100)\n",
    "train_pca = pca.fit_transform(train_hog_std)\n",
    "train_pca.shape\n",
    "\n",
    "end=time.time()\n",
    "print('time:',end-start)'''"
   ]
  },
  {
   "cell_type": "code",
   "execution_count": 4,
   "metadata": {},
   "outputs": [
    {
     "data": {
      "text/plain": [
       "(4209, 1944)"
      ]
     },
     "execution_count": 4,
     "metadata": {},
     "output_type": "execute_result"
    }
   ],
   "source": [
    "train_hog_std.shape"
   ]
  },
  {
   "cell_type": "code",
   "execution_count": 5,
   "metadata": {},
   "outputs": [
    {
     "name": "stdout",
     "output_type": "stream",
     "text": [
      "time: 63.31363105773926\n"
     ]
    }
   ],
   "source": [
    "# training SVM classifier\n",
    "start = time.time()\n",
    "\n",
    "from sklearn import svm\n",
    "\n",
    "svr = svm.SVC()\n",
    "#parameters = {'kernel': ['rbf'], 'C':[1,10,100], 'gamma':[ 1e-4, 1e-3, 1e-2]}\n",
    "parameters = {'kernel': ['rbf'], 'C':[3], 'gamma':[ (5e-4)-(1e-5), 5e-4, (5e-4)+(1e-5)]}\n",
    "clf = GridSearchCV(svr, parameters, scoring='f1_micro',cv=5, n_jobs=-1)    #choose the best parameter to used in SVM classifier with C.V.=8\n",
    "#clf = svm.SVC(C=3, kernel='rbf',gamma=0.0005)\n",
    "clf.fit(train_hog_std, train_label)\n",
    "\n",
    "end=time.time()\n",
    "print('time:',end-start)"
   ]
  },
  {
   "cell_type": "code",
   "execution_count": 119,
   "metadata": {},
   "outputs": [
    {
     "name": "stdout",
     "output_type": "stream",
     "text": [
      "img = cv2.resize(img, (80, 40))\n",
      "{'kernel': ['rbf'], 'C':[3], 'gamma':[ 3e-4, 5e-4, 7e-4]}\n",
      "{'C': 3, 'gamma': 0.0005, 'kernel': 'rbf'}\n"
     ]
    }
   ],
   "source": [
    "print(\"img = cv2.resize(img, (80, 40))\")\n",
    "print(\"{'kernel': ['rbf'], 'C':[3], 'gamma':[(5e-4)-(1e-5), 5e-4, (5e-4)+(1e-5)]}\")\n",
    "print(clf.best_params_)"
   ]
  },
  {
   "cell_type": "code",
   "execution_count": 116,
   "metadata": {},
   "outputs": [
    {
     "name": "stdout",
     "output_type": "stream",
     "text": [
      "img = cv2.resize(img, (80, 40))\n",
      "{'kernel': ['rbf'], 'C':[3,5,10], 'gamma':[ 5e-4, 1e-3, 5e-3]}\n",
      "{'C': 3, 'gamma': 0.0005, 'kernel': 'rbf'}\n"
     ]
    }
   ],
   "source": [
    "print(\"img = cv2.resize(img, (80, 40))\")\n",
    "print(\"{'kernel': ['rbf'], 'C':[3,5,10], 'gamma':[3e-4, 5e-4, 7e-4]}\")\n",
    "print(clf.best_params_)"
   ]
  },
  {
   "cell_type": "code",
   "execution_count": 7,
   "metadata": {},
   "outputs": [
    {
     "name": "stdout",
     "output_type": "stream",
     "text": [
      "time: 50.474985122680664\n"
     ]
    }
   ],
   "source": [
    "start = time.time()\n",
    "\n",
    "# applying SVM to get predicted label\n",
    "train_y_pred = clf.predict(train_hog_std)\n",
    "\n",
    "end=time.time()\n",
    "print('time:',end-start)"
   ]
  },
  {
   "cell_type": "code",
   "execution_count": 8,
   "metadata": {},
   "outputs": [
    {
     "data": {
      "text/plain": [
       "0.9961986220004752"
      ]
     },
     "execution_count": 8,
     "metadata": {},
     "output_type": "execute_result"
    }
   ],
   "source": [
    "from sklearn.metrics import f1_score\n",
    "f1_score(train_label, train_y_pred, average='micro') "
   ]
  },
  {
   "cell_type": "code",
   "execution_count": 9,
   "metadata": {},
   "outputs": [
    {
     "name": "stdout",
     "output_type": "stream",
     "text": [
      "time: 218.88489484786987\n"
     ]
    }
   ],
   "source": [
    "start = time.time()\n",
    "\n",
    "# read test file\n",
    "test_hog=[]\n",
    "for file in sorted(glob.glob('traffic/traffic/test/*.jpg')):\n",
    "    \n",
    "    img = cv2.imread(file,0)\n",
    "    img = cv2.resize(img, (80,40))\n",
    "    h = hog(img, block_norm='L2')\n",
    "    test_hog.append(h)\n",
    "\n",
    "# standardise the data\n",
    "test_hog_std = StandardScaler().fit_transform(test_hog)\n",
    "test_hog_std.shape\n",
    "'''\n",
    "# implementing PCA method to reduce dimension\n",
    "from sklearn import decomposition\n",
    "pca = decomposition.PCA(n_components=100)\n",
    "test_pca = pca.fit_transform(test_hog_std)\n",
    "test_pca.shape'''\n",
    "\n",
    "end=time.time()\n",
    "print('time:',end-start)"
   ]
  },
  {
   "cell_type": "code",
   "execution_count": 10,
   "metadata": {},
   "outputs": [
    {
     "name": "stdout",
     "output_type": "stream",
     "text": [
      "time: 859.1795790195465\n"
     ]
    }
   ],
   "source": [
    "start = time.time()\n",
    "\n",
    "# applying SVM to get predicted label\n",
    "test_y_pred = clf.predict(test_hog_std)\n",
    "\n",
    "end=time.time()\n",
    "print('time:',end-start)"
   ]
  },
  {
   "cell_type": "code",
   "execution_count": 11,
   "metadata": {},
   "outputs": [
    {
     "data": {
      "text/plain": [
       "100000"
      ]
     },
     "execution_count": 11,
     "metadata": {},
     "output_type": "execute_result"
    }
   ],
   "source": [
    "len(test_y_pred)"
   ]
  },
  {
   "cell_type": "code",
   "execution_count": 12,
   "metadata": {},
   "outputs": [],
   "source": [
    "# output label file\n",
    "import csv\n",
    "with open('prediction.dat', mode='w') as out:\n",
    "    writer = csv.writer(out)\n",
    "    for i in range(len(test_y_pred)):\n",
    "        writer.writerow([test_y_pred[i]])"
   ]
  }
 ],
 "metadata": {
  "kernelspec": {
   "display_name": "Python 3",
   "language": "python",
   "name": "python3"
  },
  "language_info": {
   "codemirror_mode": {
    "name": "ipython",
    "version": 3
   },
   "file_extension": ".py",
   "mimetype": "text/x-python",
   "name": "python",
   "nbconvert_exporter": "python",
   "pygments_lexer": "ipython3",
   "version": "3.6.5"
  }
 },
 "nbformat": 4,
 "nbformat_minor": 2
}
