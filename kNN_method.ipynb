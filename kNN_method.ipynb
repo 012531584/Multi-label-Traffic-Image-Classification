{
 "cells": [
  {
   "cell_type": "markdown",
   "metadata": {},
   "source": [
    "### Load image data"
   ]
  },
  {
   "cell_type": "code",
   "execution_count": 42,
   "metadata": {},
   "outputs": [],
   "source": [
    "import cv2\n",
    "import glob\n",
    "import numpy as np\n",
    "from skimage.feature import hog\n",
    "\n",
    "# read image files from train folder and use hog function to get the feature vactors\n",
    "train_hog=[]\n",
    "for file in sorted(glob.glob('traffic/traffic-small/train/*.jpg')):\n",
    "    img = cv2.imread(file,0)\n",
    "    img = cv2.resize(img, (60, 30))\n",
    "    h = hog(img, block_norm='L2')\n",
    "    train_hog.append(h)\n",
    "    \n",
    "# read labels from training dataset\n",
    "train_label=[]\n",
    "with open('traffic/traffic-small/train.labels', mode='r') as f:\n",
    "    for line in f:\n",
    "        train_label.append(int(line))"
   ]
  },
  {
   "cell_type": "code",
   "execution_count": 44,
   "metadata": {},
   "outputs": [
    {
     "data": {
      "text/plain": [
       "4209"
      ]
     },
     "execution_count": 44,
     "metadata": {},
     "output_type": "execute_result"
    }
   ],
   "source": [
    "len(train_label)"
   ]
  },
  {
   "cell_type": "markdown",
   "metadata": {},
   "source": [
    "### Standardize the dataset"
   ]
  },
  {
   "cell_type": "code",
   "execution_count": 45,
   "metadata": {},
   "outputs": [
    {
     "data": {
      "text/plain": [
       "(4209, 405)"
      ]
     },
     "execution_count": 45,
     "metadata": {},
     "output_type": "execute_result"
    }
   ],
   "source": [
    "from sklearn.preprocessing import StandardScaler\n",
    "\n",
    "# standardise the data\n",
    "train_hog_std = StandardScaler().fit_transform(train_hog)\n",
    "train_hog_std.shape"
   ]
  },
  {
   "cell_type": "markdown",
   "metadata": {},
   "source": [
    "### Apply PCA to reduce dimension of the dataset"
   ]
  },
  {
   "cell_type": "code",
   "execution_count": 26,
   "metadata": {},
   "outputs": [
    {
     "data": {
      "image/png": "[encoded data removed]",
      "text/plain": [
       "<Figure size 432x288 with 1 Axes>"
      ]
     },
     "metadata": {},
     "output_type": "display_data"
    }
   ],
   "source": [
    "# find the appropriate component num. for PCA\n",
    "import matplotlib.pyplot as plt \n",
    "from sklearn.decomposition import PCA\n",
    "\n",
    "#Fitting the PCA algorithm with our Data\n",
    "pca = PCA().fit(train_hog_std)\n",
    "#Plotting the Cumulative Summation of the Explained Variance\n",
    "plt.figure()\n",
    "plt.plot(np.cumsum(pca.explained_variance_ratio_))\n",
    "plt.xlabel('Number of Components')\n",
    "plt.ylabel('Variance (%)') #for each component\n",
    "plt.title('Pulsar Dataset Explained Variance')\n",
    "plt.show()"
   ]
  },
  {
   "cell_type": "code",
   "execution_count": 28,
   "metadata": {},
   "outputs": [
    {
     "data": {
      "text/plain": [
       "(100000, 200)"
      ]
     },
     "execution_count": 28,
     "metadata": {},
     "output_type": "execute_result"
    }
   ],
   "source": [
    "# implementing PCA method to reduce dimension\n",
    "from sklearn import decomposition\n",
    "pca = decomposition.PCA(n_components=200)\n",
    "train_pca = pca.fit_transform(train_hog_std)\n",
    "train_pca.shape"
   ]
  },
  {
   "cell_type": "markdown",
   "metadata": {},
   "source": [
    "### Create model from the Sklearn and use GridSearchCV() to get the best parameter"
   ]
  },
  {
   "cell_type": "code",
   "execution_count": 46,
   "metadata": {},
   "outputs": [
    {
     "data": {
      "text/plain": [
       "GridSearchCV(cv=5, error_score='raise',\n",
       "       estimator=KNeighborsClassifier(algorithm='auto', leaf_size=30, metric='minkowski',\n",
       "           metric_params=None, n_jobs=1, n_neighbors=5, p=2,\n",
       "           weights='uniform'),\n",
       "       fit_params={}, iid=True, n_jobs=-1,\n",
       "       param_grid={'n_neighbors': [1, 2, 3, 4, 5, 6, 7, 8, 9, 10, 11, 12, 13, 14]},\n",
       "       pre_dispatch='2*n_jobs', refit=True, scoring='accuracy', verbose=0)"
      ]
     },
     "execution_count": 46,
     "metadata": {},
     "output_type": "execute_result"
    }
   ],
   "source": [
    "from sklearn.neighbors import KNeighborsClassifier\n",
    "from sklearn.grid_search import GridSearchCV\n",
    "\n",
    "# training kNN classifier via gridsearchCV with training dataset\n",
    "knn = KNeighborsClassifier()\n",
    "k_range = list(range(1, 15))\n",
    "param_grid = dict(n_neighbors=k_range)\n",
    "model = GridSearchCV(knn, param_grid, cv=5, scoring='accuracy', n_jobs=-1)\n",
    "model.fit(train_hog_std, train_label)\n",
    "\n",
    "\n",
    "#pred = model.predict(hog_std_pca)\n",
    "#pred"
   ]
  },
  {
   "cell_type": "code",
   "execution_count": 47,
   "metadata": {},
   "outputs": [
    {
     "name": "stdout",
     "output_type": "stream",
     "text": [
      "{'n_neighbors': 4}\n"
     ]
    }
   ],
   "source": [
    "print(model.best_params_)"
   ]
  },
  {
   "cell_type": "markdown",
   "metadata": {},
   "source": [
    "### Get the prediction of train dataset"
   ]
  },
  {
   "cell_type": "code",
   "execution_count": null,
   "metadata": {},
   "outputs": [],
   "source": [
    "# use the trained kNN classifier to get the predict labels\n",
    "train_pred = model.predict(train_hog_std)\n"
   ]
  },
  {
   "cell_type": "code",
   "execution_count": 38,
   "metadata": {},
   "outputs": [
    {
     "data": {
      "text/plain": [
       "0.7738180090282728"
      ]
     },
     "execution_count": 38,
     "metadata": {},
     "output_type": "execute_result"
    }
   ],
   "source": [
    "from sklearn.metrics import f1_score\n",
    "\n",
    "f1_score(train_label, train_pred, average='micro')  "
   ]
  },
  {
   "cell_type": "markdown",
   "metadata": {},
   "source": [
    "### Processing the test dataset"
   ]
  },
  {
   "cell_type": "code",
   "execution_count": null,
   "metadata": {},
   "outputs": [],
   "source": [
    "# read image files from test folder and use hog function to get the feature vactor\n",
    "test_hog=[]\n",
    "for file in sorted(glob.glob('traffic/traffic/test/*.jpg')):\n",
    "    img = cv2.imread(file,0)\n",
    "    img = cv2.resize(img, (60, 30))\n",
    "    h = hog(img, block_norm='L2')\n",
    "    test_hog.append(h)\n",
    "    \n",
    "# standardise the data\n",
    "test_hog_std = StandardScaler().fit_transform(test_hog)\n",
    "test_hog_std.shape\n",
    "\n",
    "# implementing PCA method to reduce dimension\n",
    "pca = decomposition.PCA(n_components=200)\n",
    "test_pca = pca.fit_transform(test_hog_std)\n",
    "test_pca.shape\n",
    "\n",
    "# use the trained kNN classifier to get the predict labels\n",
    "test_pred = model.predict(test_hog_std)"
   ]
  },
  {
   "cell_type": "code",
   "execution_count": null,
   "metadata": {},
   "outputs": [],
   "source": [
    "import csv\n",
    "\n",
    "# output label file\n",
    "with open('prediction.dat', mode='w') as out:\n",
    "    writer = csv.writer(out)\n",
    "    for i in range(len(test_pred)):\n",
    "        writer.writerow([test_pred[i]])"
   ]
  }
 ],
 "metadata": {
  "kernelspec": {
   "display_name": "Python 3",
   "language": "python",
   "name": "python3"
  },
  "language_info": {
   "codemirror_mode": {
    "name": "ipython",
    "version": 3
   },
   "file_extension": ".py",
   "mimetype": "text/x-python",
   "name": "python",
   "nbconvert_exporter": "python",
   "pygments_lexer": "ipython3",
   "version": "3.6.5"
  }
 },
 "nbformat": 4,
 "nbformat_minor": 2
}
